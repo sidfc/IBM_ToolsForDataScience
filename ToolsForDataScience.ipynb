{
  "metadata": {
    "language_info": {
      "codemirror_mode": {
        "name": "python",
        "version": 3
      },
      "file_extension": ".py",
      "mimetype": "text/x-python",
      "name": "python",
      "nbconvert_exporter": "python",
      "pygments_lexer": "ipython3",
      "version": "3.8"
    },
    "kernelspec": {
      "name": "python",
      "display_name": "Python (Pyodide)",
      "language": "python"
    }
  },
  "nbformat_minor": 4,
  "nbformat": 4,
  "cells": [
    {
      "cell_type": "markdown",
      "source": "# This is a Jupyter Notebook - Learning Data Science",
      "metadata": {}
    },
    {
      "cell_type": "code",
      "source": "",
      "metadata": {},
      "execution_count": null,
      "outputs": []
    },
    {
      "cell_type": "markdown",
      "source": "### Introduction\nI'm learning Data Science using the IBM specialization on Coursera.\\\nThis notebook is part of the requirements for getting the certificate.",
      "metadata": {}
    },
    {
      "cell_type": "code",
      "source": "",
      "metadata": {},
      "execution_count": null,
      "outputs": []
    },
    {
      "cell_type": "markdown",
      "source": "### There are a lot of languages that can be used in Data Science\n1. Python\n2. Scala\n3. Julia\n4. Java\n5. SQL\n6. R\n7. JavaScript\n\nand many more",
      "metadata": {}
    },
    {
      "cell_type": "code",
      "source": "",
      "metadata": {},
      "execution_count": null,
      "outputs": []
    },
    {
      "cell_type": "markdown",
      "source": "### Here is a list of Data Science libraries\n1. scikit-learn\n2. PyTorch\n3. TensorFlow\n4. Pandas\n5. Caret",
      "metadata": {}
    },
    {
      "cell_type": "code",
      "source": "",
      "metadata": {},
      "execution_count": null,
      "outputs": []
    },
    {
      "cell_type": "markdown",
      "source": "### Here is a list of Data Science tools\n1. Tableau\n2. PyTorch\n3. Excel\n4. Apache Spark\n5. Jupyter Notebook\n6. Apache Hadoop\n7. Java\n8. Weka\n9. Python",
      "metadata": {}
    },
    {
      "cell_type": "code",
      "source": "",
      "metadata": {},
      "execution_count": null,
      "outputs": []
    },
    {
      "cell_type": "markdown",
      "source": "### Arithmetic expressions\nYou can do a lot of math in jupyter notebooks\\\nYou can add, subtract, multiply and divide:\\\n1 + 1 = 2\\\n2 - 1 = 1\\\n2 * 3 = 6\\\n8 / 2 = 4\\\n(1 + 2 * 3 + 1) / 8 = 1",
      "metadata": {}
    },
    {
      "cell_type": "code",
      "source": "",
      "metadata": {},
      "execution_count": null,
      "outputs": []
    },
    {
      "cell_type": "code",
      "source": "# this is an example of an arithmetic expression\n1 + 2 * (4 + 3)",
      "metadata": {
        "trusted": true
      },
      "execution_count": 5,
      "outputs": [
        {
          "execution_count": 5,
          "output_type": "execute_result",
          "data": {
            "text/plain": "15"
          },
          "metadata": {}
        }
      ]
    },
    {
      "cell_type": "code",
      "source": "",
      "metadata": {},
      "execution_count": null,
      "outputs": []
    },
    {
      "cell_type": "code",
      "source": "def minutes_to_hours(t):\n    # t: a positive integer representing minutes\n    # this returns the number of hours and the number of minutes left\n    # Example\n    # minutes_to_hours(80)\n    # >>> 1h 20min\n    h = t // 60\n    m = t % 60\n    return f'{h}h {m}min'\n\nx = minutes_to_hours(80)\nx",
      "metadata": {
        "trusted": true
      },
      "execution_count": 8,
      "outputs": [
        {
          "execution_count": 8,
          "output_type": "execute_result",
          "data": {
            "text/plain": "'1h 20min'"
          },
          "metadata": {}
        }
      ]
    },
    {
      "cell_type": "code",
      "source": "",
      "metadata": {},
      "execution_count": null,
      "outputs": []
    },
    {
      "cell_type": "markdown",
      "source": "### Here is a list of objectives\n1. Learn Data Science\n2. Learn how to use jupyter notebooks\n3. Learn how to collect, prepare, analyze and visualize data\n4. Learn how to use the tools used in Data Science\n5. Teach other about Data Science",
      "metadata": {}
    },
    {
      "cell_type": "code",
      "source": "",
      "metadata": {},
      "execution_count": null,
      "outputs": []
    },
    {
      "cell_type": "markdown",
      "source": "### Author's Name\n#### Sidnei",
      "metadata": {}
    },
    {
      "cell_type": "code",
      "source": "",
      "metadata": {},
      "execution_count": null,
      "outputs": []
    },
    {
      "cell_type": "markdown",
      "source": "### This notebook can be found in the folowing github repository\n[IBM_ToolsForDataScience](https://github.com/sidfc/IBM_ToolsForDataScience/tree/main)",
      "metadata": {}
    },
    {
      "cell_type": "code",
      "source": "",
      "metadata": {},
      "execution_count": null,
      "outputs": []
    }
  ]
}